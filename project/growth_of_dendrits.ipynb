{
 "cells": [
  {
   "cell_type": "markdown",
   "id": "together-suspension",
   "metadata": {},
   "source": [
    "**Инициализация библиотек**"
   ]
  },
  {
   "cell_type": "code",
   "execution_count": 29,
   "id": "driving-learning",
   "metadata": {},
   "outputs": [],
   "source": [
    "import numpy as np\n",
    "import matplotlib.pyplot as plt"
   ]
  },
  {
   "cell_type": "markdown",
   "id": "higher-samoa",
   "metadata": {},
   "source": [
    "**Начальные данные**"
   ]
  },
  {
   "cell_type": "code",
   "execution_count": 39,
   "id": "statewide-cannon",
   "metadata": {},
   "outputs": [],
   "source": [
    "M = 3\n",
    "x=0\n",
    "N = 40\n",
    "y=0\n",
    "\n",
    "w = 0.5\n",
    "h = 1\n",
    "deltaT = 1\n",
    "\n",
    "cp = 3.8\n",
    "L = 4.42\n",
    "\n",
    "Tm = 5\n",
    "Tinf = 6\n",
    "\n",
    "l = 4.31323\n",
    "delta = 139.547327\n",
    "k = 0\n",
    "hi = 414.32\n",
    "\n",
    "rows, cols = 131, 131 # m,n\n",
    "Dend = np.zeros((rows,cols))\n",
    "Temp = np.zeros((rows,cols))\n",
    "Dend[int((rows-1)/2), int((cols-1)/2)] = 1\n",
    "Temp[int((rows-1)/2), int((cols-1)/2)] = cp * (Tm - Tinf)/L\n",
    "\n",
    "nu = (1 - (-1)) * np.random.random((rows,cols)) - 1\n",
    "\n",
    "Grad = np.zeros((rows,cols))\n",
    "S = np.zeros((rows,cols))"
   ]
  },
  {
   "cell_type": "markdown",
   "id": "residential-advance",
   "metadata": {},
   "source": [
    "**Первый блок программы (*A*)**"
   ]
  },
  {
   "cell_type": "code",
   "execution_count": 31,
   "id": "agricultural-track",
   "metadata": {},
   "outputs": [],
   "source": [
    "def part_A():\n",
    "    if y < N:\n",
    "        if x < M:\n",
    "            for i in range(rows):\n",
    "                for j in range(cols):\n",
    "                    Tij_sum = 0\n",
    "                    Tij_sum_w = 0\n",
    "                    \n",
    "                    if i > 0:\n",
    "                        Tij_sum += Temp[i-1][j]\n",
    "                        if j > 0:\n",
    "                            Tij_sum_w += Temp[i-1][j-1]\n",
    "                    if j > 0:\n",
    "                        Tij_sum += Temp[i][j-1]\n",
    "                        if i < rows-1:\n",
    "                            Tij_sum_w += Temp[i+1][j-1]\n",
    "                    if i < rows-1:\n",
    "                        Tij_sum += Temp[i+1][j]\n",
    "                        if j > 0:\n",
    "                            Tij_sum_w += Temp[i+1][j-1]\n",
    "                    if j < cols-1:\n",
    "                        Tij_sum += Temp[i][j+1]\n",
    "                        if i < rows-1:\n",
    "                            Tij_sum += Temp[i+1][j+1]\n",
    "                        \n",
    "                    Tij = (Tij_sum + w*Tij_sum_w) / (4 + 4*w)\n",
    "                    Grad[i][j] = (Tij - Temp[i][j]) / ((4+4*w) * (1+2*w)*(h*h))\n",
    "                    \n",
    "            part_B()\n",
    "        else:\n",
    "            part_C()"
   ]
  },
  {
   "cell_type": "markdown",
   "id": "removable-table",
   "metadata": {},
   "source": [
    "**Второй блок программы (*B* и *C*)**"
   ]
  },
  {
   "cell_type": "code",
   "execution_count": 32,
   "id": "quarterly-request",
   "metadata": {},
   "outputs": [],
   "source": [
    "def part_B():\n",
    "    global x\n",
    "    for i in range(int((rows-1)/2), -1, -1):\n",
    "        for j in range(int((cols-1)/2), -1, -1):\n",
    "            if Dend[i][j] == 0:\n",
    "                Temp[i][j] = Temp[i][j] + hi*deltaT*Grad[i][j] / M\n",
    "    for i in range(int((rows-1)/2), rows, 1):\n",
    "        for j in range(int((cols-1)/2), cols, 1):\n",
    "            if Dend[i][j] == 0:\n",
    "                Temp[i][j] = Temp[i][j] + hi*deltaT*Grad[i][j] / M\n",
    "    x += 1\n",
    "    part_A()\n",
    "    \n",
    "def part_C():\n",
    "    global y\n",
    "    for i in range(rows):\n",
    "        for j in range(cols):\n",
    "            sum_not_diagonal = 0\n",
    "            sum_diagonal = 0\n",
    "            if i > 0:\n",
    "                sum_not_diagonal += Dend[i-1][j]\n",
    "                if j > 0:\n",
    "                    sum_diagonal += Dend[i-1][j-1]\n",
    "            if j > 0:\n",
    "                sum_not_diagonal += Dend[i][j-1]\n",
    "                if i < rows-1:\n",
    "                    sum_diagonal += Dend[i+1][j-1]\n",
    "            if i < rows-1:\n",
    "                sum_not_diagonal += Dend[i+1][j]\n",
    "                if j > 0:\n",
    "                    sum_diagonal += Dend[i+1][j-1]\n",
    "            if j < cols-1:\n",
    "                sum_not_diagonal += Dend[i][j+1]\n",
    "                if i < rows-1:\n",
    "                    sum_diagonal += Dend[i+1][j+1]\n",
    "                    \n",
    "            k = sum_diagonal + sum_not_diagonal\n",
    "            if k >= 1:\n",
    "                S[i][j] = sum_not_diagonal + w*sum_diagonal - (2.5 + 2.5*w)\n",
    "                T = Temp[int((rows-1)/2), int((cols-1)/2)]*(1 + nu[i][j]*delta)+l*S[i][j]\n",
    "                \n",
    "                if Temp[i][j] < T:\n",
    "                    Dend[i][j] = 1\n",
    "                    Temp[i][j] = Temp[int((rows-1)/2), int((cols-1)/2)]\n",
    "    \n",
    "    y+=1\n",
    "\n",
    "    #rgba = cmap(norm(Dend))\n",
    "    #plt.pause(1e-12)\n",
    "    #plt.clf()\n",
    "    #plt.imshow(rgba, interpolation='nearest')\n",
    "    part_A()"
   ]
  },
  {
   "cell_type": "markdown",
   "id": "premium-partner",
   "metadata": {},
   "source": [
    "**Вывод результатов**"
   ]
  },
  {
   "cell_type": "code",
   "execution_count": 40,
   "id": "nervous-handy",
   "metadata": {},
   "outputs": [
    {
     "data": {
      "text/plain": [
       "<matplotlib.image.AxesImage at 0x7f982636d520>"
      ]
     },
     "execution_count": 40,
     "metadata": {},
     "output_type": "execute_result"
    },
    {
     "data": {
      "image/png": "[encoded data removed]",
      "text/plain": [
       "<Figure size 432x288 with 1 Axes>"
      ]
     },
     "metadata": {
      "needs_background": "light"
     },
     "output_type": "display_data"
    }
   ],
   "source": [
    "cmap = plt.cm.gray\n",
    "norm = plt.Normalize(Dend.min(), Dend.max())\n",
    "rgba = cmap(norm(Dend))\n",
    "\n",
    "plt.title('Рост дендритов')\n",
    "plt.imshow(rgba, interpolation='nearest')"
   ]
  },
  {
   "cell_type": "code",
   "execution_count": 41,
   "id": "strong-dairy",
   "metadata": {},
   "outputs": [
    {
     "data": {
      "text/plain": [
       "<matplotlib.image.AxesImage at 0x7f98261882e0>"
      ]
     },
     "execution_count": 41,
     "metadata": {},
     "output_type": "execute_result"
    },
    {
     "data": {
      "image/png": "[encoded data removed]",
      "text/plain": [
       "<Figure size 432x288 with 1 Axes>"
      ]
     },
     "metadata": {
      "needs_background": "light"
     },
     "output_type": "display_data"
    }
   ],
   "source": [
    "part_A()\n",
    "rgba = cmap(norm(Dend))\n",
    "title = 'Рост дендритов (итог 1)'\n",
    "plt.title(title)\n",
    "plt.imshow(rgba, interpolation='nearest')"
   ]
  },
  {
   "cell_type": "code",
   "execution_count": 43,
   "id": "parliamentary-vermont",
   "metadata": {},
   "outputs": [
    {
     "data": {
      "text/plain": [
       "<matplotlib.image.AxesImage at 0x7f98260d1eb0>"
      ]
     },
     "execution_count": 43,
     "metadata": {},
     "output_type": "execute_result"
    },
    {
     "data": {
      "image/png": "[encoded data removed]",
      "text/plain": [
       "<Figure size 432x288 with 1 Axes>"
      ]
     },
     "metadata": {
      "needs_background": "light"
     },
     "output_type": "display_data"
    }
   ],
   "source": [
    "Dend = np.zeros((rows,cols))\n",
    "Temp = np.zeros((rows,cols))\n",
    "Dend[int((rows-1)/2), int((cols-1)/2)] = 1\n",
    "Temp[int((rows-1)/2), int((cols-1)/2)] = cp * (Tm - Tinf)/L\n",
    "x = 0\n",
    "y = 0\n",
    "\n",
    "nu = (1 - (-1)) * np.random.random((rows,cols)) - 1\n",
    "\n",
    "Grad = np.zeros((rows,cols))\n",
    "S = np.zeros((rows,cols))\n",
    "\n",
    "part_A()\n",
    "rgba = cmap(norm(Dend))\n",
    "title = 'Рост дендритов (итог 2)'\n",
    "plt.title(title)\n",
    "plt.imshow(rgba, interpolation='nearest')"
   ]
  },
  {
   "cell_type": "code",
   "execution_count": 44,
   "id": "bearing-lingerie",
   "metadata": {},
   "outputs": [
    {
     "data": {
      "text/plain": [
       "<matplotlib.image.AxesImage at 0x7f98260d1910>"
      ]
     },
     "execution_count": 44,
     "metadata": {},
     "output_type": "execute_result"
    },
    {
     "data": {
      "image/png": "[encoded data removed]",
      "text/plain": [
       "<Figure size 432x288 with 1 Axes>"
      ]
     },
     "metadata": {
      "needs_background": "light"
     },
     "output_type": "display_data"
    }
   ],
   "source": [
    "Dend = np.zeros((rows,cols))\n",
    "Temp = np.zeros((rows,cols))\n",
    "Dend[int((rows-1)/2), int((cols-1)/2)] = 1\n",
    "Temp[int((rows-1)/2), int((cols-1)/2)] = cp * (Tm - Tinf)/L\n",
    "x = 0\n",
    "y = 0\n",
    "\n",
    "nu = (1 - (-1)) * np.random.random((rows,cols)) - 1\n",
    "\n",
    "Grad = np.zeros((rows,cols))\n",
    "S = np.zeros((rows,cols))\n",
    "\n",
    "part_A()\n",
    "rgba = cmap(norm(Dend))\n",
    "title = 'Рост дендритов (итог 3)'\n",
    "plt.title(title)\n",
    "plt.imshow(rgba, interpolation='nearest')"
   ]
  },
  {
   "cell_type": "code",
   "execution_count": 45,
   "id": "blind-conviction",
   "metadata": {},
   "outputs": [
    {
     "data": {
      "text/plain": [
       "<matplotlib.image.AxesImage at 0x7f9826077f70>"
      ]
     },
     "execution_count": 45,
     "metadata": {},
     "output_type": "execute_result"
    },
    {
     "data": {
      "image/png": "[encoded data removed]",
      "text/plain": [
       "<Figure size 432x288 with 1 Axes>"
      ]
     },
     "metadata": {
      "needs_background": "light"
     },
     "output_type": "display_data"
    }
   ],
   "source": [
    "Dend = np.zeros((rows,cols))\n",
    "Temp = np.zeros((rows,cols))\n",
    "Dend[int((rows-1)/2), int((cols-1)/2)] = 1\n",
    "Temp[int((rows-1)/2), int((cols-1)/2)] = cp * (Tm - Tinf)/L\n",
    "x = 0\n",
    "y = 0\n",
    "\n",
    "nu = (1 - (-1)) * np.random.random((rows,cols)) - 1\n",
    "\n",
    "Grad = np.zeros((rows,cols))\n",
    "S = np.zeros((rows,cols))\n",
    "\n",
    "part_A()\n",
    "rgba = cmap(norm(Dend))\n",
    "title = 'Рост дендритов (итог 4)'\n",
    "plt.title(title)\n",
    "plt.imshow(rgba, interpolation='nearest')"
   ]
  },
  {
   "cell_type": "code",
   "execution_count": 46,
   "id": "driving-verification",
   "metadata": {},
   "outputs": [
    {
     "data": {
      "text/plain": [
       "<matplotlib.image.AxesImage at 0x7f98262a9be0>"
      ]
     },
     "execution_count": 46,
     "metadata": {},
     "output_type": "execute_result"
    },
    {
     "data": {
      "image/png": "[encoded data removed]",
      "text/plain": [
       "<Figure size 432x288 with 1 Axes>"
      ]
     },
     "metadata": {
      "needs_background": "light"
     },
     "output_type": "display_data"
    }
   ],
   "source": [
    "Dend = np.zeros((rows,cols))\n",
    "Temp = np.zeros((rows,cols))\n",
    "Dend[int((rows-1)/2), int((cols-1)/2)] = 1\n",
    "Temp[int((rows-1)/2), int((cols-1)/2)] = cp * (Tm - Tinf)/L\n",
    "x = 0\n",
    "y = 0\n",
    "\n",
    "nu = (1 - (-1)) * np.random.random((rows,cols)) - 1\n",
    "\n",
    "Grad = np.zeros((rows,cols))\n",
    "S = np.zeros((rows,cols))\n",
    "\n",
    "part_A()\n",
    "rgba = cmap(norm(Dend))\n",
    "title = 'Рост дендритов (итог 5)'\n",
    "plt.title(title)\n",
    "plt.imshow(rgba, interpolation='nearest')"
   ]
  },
  {
   "cell_type": "code",
   "execution_count": 47,
   "id": "million-envelope",
   "metadata": {},
   "outputs": [
    {
     "data": {
      "text/plain": [
       "<matplotlib.image.AxesImage at 0x7f9827d2e7f0>"
      ]
     },
     "execution_count": 47,
     "metadata": {},
     "output_type": "execute_result"
    },
    {
     "data": {
      "image/png": "[encoded data removed]",
      "text/plain": [
       "<Figure size 432x288 with 1 Axes>"
      ]
     },
     "metadata": {
      "needs_background": "light"
     },
     "output_type": "display_data"
    }
   ],
   "source": [
    "Dend = np.zeros((rows,cols))\n",
    "Temp = np.zeros((rows,cols))\n",
    "Dend[int((rows-1)/2), int((cols-1)/2)] = 1\n",
    "Temp[int((rows-1)/2), int((cols-1)/2)] = cp * (Tm - Tinf)/L\n",
    "x = 0\n",
    "y = 0\n",
    "\n",
    "nu = (1 - (-1)) * np.random.random((rows,cols)) - 1\n",
    "\n",
    "Grad = np.zeros((rows,cols))\n",
    "S = np.zeros((rows,cols))\n",
    "\n",
    "part_A()\n",
    "rgba = cmap(norm(Dend))\n",
    "title = 'Рост дендритов (итог 6)'\n",
    "plt.title(title)\n",
    "plt.imshow(rgba, interpolation='nearest')"
   ]
  },
  {
   "cell_type": "code",
   "execution_count": 48,
   "id": "united-contribution",
   "metadata": {},
   "outputs": [
    {
     "data": {
      "text/plain": [
       "<matplotlib.image.AxesImage at 0x7f9825f97850>"
      ]
     },
     "execution_count": 48,
     "metadata": {},
     "output_type": "execute_result"
    },
    {
     "data": {
      "image/png": "[encoded data removed]",
      "text/plain": [
       "<Figure size 432x288 with 1 Axes>"
      ]
     },
     "metadata": {
      "needs_background": "light"
     },
     "output_type": "display_data"
    }
   ],
   "source": [
    "Dend = np.zeros((rows,cols))\n",
    "Temp = np.zeros((rows,cols))\n",
    "Dend[int((rows-1)/2), int((cols-1)/2)] = 1\n",
    "Temp[int((rows-1)/2), int((cols-1)/2)] = cp * (Tm - Tinf)/L\n",
    "x = 0\n",
    "y = 0\n",
    "\n",
    "nu = (1 - (-1)) * np.random.random((rows,cols)) - 1\n",
    "\n",
    "Grad = np.zeros((rows,cols))\n",
    "S = np.zeros((rows,cols))\n",
    "\n",
    "part_A()\n",
    "rgba = cmap(norm(Dend))\n",
    "title = 'Рост дендритов (итог 7)'\n",
    "plt.title(title)\n",
    "plt.imshow(rgba, interpolation='nearest')"
   ]
  },
  {
   "cell_type": "code",
   "execution_count": 49,
   "id": "pursuant-imaging",
   "metadata": {},
   "outputs": [
    {
     "data": {
      "text/plain": [
       "<matplotlib.image.AxesImage at 0x7f9825f63f70>"
      ]
     },
     "execution_count": 49,
     "metadata": {},
     "output_type": "execute_result"
    },
    {
     "data": {
      "image/png": "[encoded data removed]",
      "text/plain": [
       "<Figure size 432x288 with 1 Axes>"
      ]
     },
     "metadata": {
      "needs_background": "light"
     },
     "output_type": "display_data"
    }
   ],
   "source": [
    "Dend = np.zeros((rows,cols))\n",
    "Temp = np.zeros((rows,cols))\n",
    "Dend[int((rows-1)/2), int((cols-1)/2)] = 1\n",
    "Temp[int((rows-1)/2), int((cols-1)/2)] = cp * (Tm - Tinf)/L\n",
    "x = 0\n",
    "y = 0\n",
    "\n",
    "nu = (1 - (-1)) * np.random.random((rows,cols)) - 1\n",
    "\n",
    "Grad = np.zeros((rows,cols))\n",
    "S = np.zeros((rows,cols))\n",
    "\n",
    "part_A()\n",
    "rgba = cmap(norm(Dend))\n",
    "title = 'Рост дендритов (итог 8)'\n",
    "plt.title(title)\n",
    "plt.imshow(rgba, interpolation='nearest')"
   ]
  },
  {
   "cell_type": "code",
   "execution_count": 50,
   "id": "universal-newton",
   "metadata": {},
   "outputs": [
    {
     "data": {
      "text/plain": [
       "<matplotlib.image.AxesImage at 0x7f9826219dc0>"
      ]
     },
     "execution_count": 50,
     "metadata": {},
     "output_type": "execute_result"
    },
    {
     "data": {
      "image/png": "[encoded data removed]",
      "text/plain": [
       "<Figure size 432x288 with 1 Axes>"
      ]
     },
     "metadata": {
      "needs_background": "light"
     },
     "output_type": "display_data"
    }
   ],
   "source": [
    "Dend = np.zeros((rows,cols))\n",
    "Temp = np.zeros((rows,cols))\n",
    "Dend[int((rows-1)/2), int((cols-1)/2)] = 1\n",
    "Temp[int((rows-1)/2), int((cols-1)/2)] = cp * (Tm - Tinf)/L\n",
    "x = 0\n",
    "y = 0\n",
    "\n",
    "nu = (1 - (-1)) * np.random.random((rows,cols)) - 1\n",
    "\n",
    "Grad = np.zeros((rows,cols))\n",
    "S = np.zeros((rows,cols))\n",
    "\n",
    "part_A()\n",
    "rgba = cmap(norm(Dend))\n",
    "title = 'Рост дендритов (итог 9)'\n",
    "plt.title(title)\n",
    "plt.imshow(rgba, interpolation='nearest')"
   ]
  }
 ],
 "metadata": {
  "kernelspec": {
   "display_name": "Python 3",
   "language": "python",
   "name": "python3"
  },
  "language_info": {
   "codemirror_mode": {
    "name": "ipython",
    "version": 3
   },
   "file_extension": ".py",
   "mimetype": "text/x-python",
   "name": "python",
   "nbconvert_exporter": "python",
   "pygments_lexer": "ipython3",
   "version": "3.8.5"
  }
 },
 "nbformat": 4,
 "nbformat_minor": 5
}
