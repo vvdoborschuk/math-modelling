{
 "cells": [
  {
   "cell_type": "markdown",
   "id": "spoken-audience",
   "metadata": {},
   "source": [
    "# Модель боевых действий"
   ]
  },
  {
   "cell_type": "markdown",
   "id": "static-september",
   "metadata": {},
   "source": [
    "## Вариант 14"
   ]
  },
  {
   "cell_type": "markdown",
   "id": "generous-citation",
   "metadata": {},
   "source": [
    "**Инициализация библиотек**"
   ]
  },
  {
   "cell_type": "code",
   "execution_count": 17,
   "id": "pretty-peeing",
   "metadata": {},
   "outputs": [],
   "source": [
    "import numpy as np\n",
    "from math import cos, sin\n",
    "from scipy.integrate import odeint\n",
    "import matplotlib.pyplot as plt"
   ]
  },
  {
   "cell_type": "markdown",
   "id": "novel-lawrence",
   "metadata": {},
   "source": [
    "**Начальные данные**"
   ]
  },
  {
   "cell_type": "code",
   "execution_count": 18,
   "id": "robust-validation",
   "metadata": {},
   "outputs": [],
   "source": [
    "x0 = 200000\n",
    "y0 = 119000\n",
    "t0 = 0 \n",
    "\n",
    "tmax = 1\n",
    "dt = 0.05\n",
    "\n",
    "t = np.arange(t0,tmax,dt)\n",
    "\n",
    "v0 = np.array([x0, y0])"
   ]
  },
  {
   "cell_type": "markdown",
   "id": "refined-republic",
   "metadata": {},
   "source": [
    "**Функция построения графиков**"
   ]
  },
  {
   "cell_type": "code",
   "execution_count": 19,
   "id": "declared-thermal",
   "metadata": {},
   "outputs": [],
   "source": [
    "def army_model(time, data, num):\n",
    "    title = 'Combat Model #' + num \n",
    "    plt.plot(time, data[0], 'steelblue', label='Армия X') \n",
    "    plt.plot(time, data[1], 'firebrick', label='Армия Y')\n",
    "    plt.title(title)\n",
    "    plt.xlabel('Time')\n",
    "    plt.ylabel('Army size')\n",
    "    plt.ylim(0, None)\n",
    "    plt.legend()\n",
    "    plt.grid(True)\n",
    "    plt.margins(0.05)\n",
    "    plt.subplots_adjust(left=0, bottom=0, right=0.8, top=1)"
   ]
  },
  {
   "cell_type": "markdown",
   "id": "hairy-milwaukee",
   "metadata": {},
   "source": [
    "### Модель боевых действий №1"
   ]
  },
  {
   "cell_type": "markdown",
   "id": "norman-tamil",
   "metadata": {},
   "source": [
    "Введём необходимые коэффициенты для модели боевых действий между регулярными войсками."
   ]
  },
  {
   "cell_type": "code",
   "execution_count": 20,
   "id": "ideal-surfing",
   "metadata": {},
   "outputs": [],
   "source": [
    "a = 0.5\n",
    "b = 0.8\n",
    "c = 0.7\n",
    "h = 0.8"
   ]
  },
  {
   "cell_type": "markdown",
   "id": "alleged-warning",
   "metadata": {},
   "source": [
    "Далее, необходимо определить функции $P(t)$ и $Q(t)$, а также необходимую нам функцию для системы дифференциальных уравнений."
   ]
  },
  {
   "cell_type": "code",
   "execution_count": 21,
   "id": "herbal-diploma",
   "metadata": {},
   "outputs": [],
   "source": [
    "# possibility of reinforcement approach for X\n",
    "def P1(t):\n",
    "    p = sin(t+5) + 1\n",
    "    return p\n",
    "\n",
    "# possibility of reinforcement approach for Y\n",
    "def Q1(t):\n",
    "    q = cos(t+3) + 1\n",
    "    return q\n",
    "\n",
    "# system of differential equations function\n",
    "def dy1(y,t):\n",
    "    dy_1 = -a*y[0] - b*y[1] + P1(t)\n",
    "    dy_2 = -c*y[0] - h*y[1] + Q1(t)\n",
    "    return [dy_1, dy_2]"
   ]
  },
  {
   "cell_type": "markdown",
   "id": "appropriate-works",
   "metadata": {},
   "source": [
    "Далее, решим систему дифференциальных уравнений с помощью функции `odeint` и построим модель графически."
   ]
  },
  {
   "cell_type": "code",
   "execution_count": 22,
   "id": "resistant-coffee",
   "metadata": {},
   "outputs": [
    {
     "data": {
      "image/png": "[encoded data removed]",
      "text/plain": [
       "<Figure size 432x288 with 1 Axes>"
      ]
     },
     "metadata": {
      "needs_background": "light"
     },
     "output_type": "display_data"
    }
   ],
   "source": [
    "y = odeint(dy1, v0, t)\n",
    "army_data = [[elem[0] for elem in y], [elem[1] for elem in y]]\n",
    "\n",
    "army_model(t, army_data, str(1))"
   ]
  },
  {
   "cell_type": "markdown",
   "id": "black-receiver",
   "metadata": {},
   "source": [
    "### Модель боевых действий №2"
   ]
  },
  {
   "cell_type": "markdown",
   "id": "returning-diamond",
   "metadata": {},
   "source": [
    "Переопределим коэфициенты для модели ведения боевых действий с участием регулярных войск и партизанских отрядов."
   ]
  },
  {
   "cell_type": "code",
   "execution_count": 23,
   "id": "noticed-editing",
   "metadata": {},
   "outputs": [],
   "source": [
    "a = 0.5\n",
    "b = 0.8\n",
    "c = 0.3\n",
    "h = 0.5"
   ]
  },
  {
   "cell_type": "markdown",
   "id": "drawn-husband",
   "metadata": {},
   "source": [
    "Также переопределим функции `P(t)` и `Q(t)`, модифицируем для данной модели СДУ."
   ]
  },
  {
   "cell_type": "code",
   "execution_count": 26,
   "id": "spread-valentine",
   "metadata": {},
   "outputs": [],
   "source": [
    "# possibility of reinforcement approach for X\n",
    "def P2(t):\n",
    "    p = sin(10*t)\n",
    "    return p\n",
    "\n",
    "# possibility of reinforcement approach for Y\n",
    "def Q2(t):\n",
    "    q = cos(10*t)\n",
    "    return q\n",
    "\n",
    "# system of differential equations function\n",
    "def dy2(y,t):\n",
    "    dy_1 = -a*y[0] - b*y[1] + P2(t)\n",
    "    dy_2 = -c*y[0]*y[1] - h*y[1] + Q2(t)\n",
    "    return [dy_1, dy_2]"
   ]
  },
  {
   "cell_type": "markdown",
   "id": "stable-exclusive",
   "metadata": {},
   "source": [
    "Повторно решим нашу СДУ при новых условиях."
   ]
  },
  {
   "cell_type": "code",
   "execution_count": 25,
   "id": "prescribed-projection",
   "metadata": {},
   "outputs": [
    {
     "data": {
      "image/png": "[encoded data removed]",
      "text/plain": [
       "<Figure size 432x288 with 1 Axes>"
      ]
     },
     "metadata": {
      "needs_background": "light"
     },
     "output_type": "display_data"
    }
   ],
   "source": [
    "y = odeint(dy2, v0, t)\n",
    "army_data = [[elem[0] for elem in y], [elem[1] for elem in y]]\n",
    "\n",
    "army_model(t, army_data, str(2))"
   ]
  },
  {
   "cell_type": "markdown",
   "id": "chicken-swing",
   "metadata": {},
   "source": [
    "##  Выводы"
   ]
  },
  {
   "cell_type": "markdown",
   "id": "accepted-ownership",
   "metadata": {},
   "source": [
    "По построенным моделям можно судить, что при участии партизанских отрядов, армия Y будет иметь намного меньше возможностей для сдерживании армии X, но и при их отсутствии она будет сокрушена за отведенный промежуток времени."
   ]
  }
 ],
 "metadata": {
  "kernelspec": {
   "display_name": "Python 3",
   "language": "python",
   "name": "python3"
  },
  "language_info": {
   "codemirror_mode": {
    "name": "ipython",
    "version": 3
   },
   "file_extension": ".py",
   "mimetype": "text/x-python",
   "name": "python",
   "nbconvert_exporter": "python",
   "pygments_lexer": "ipython3",
   "version": "3.8.5"
  }
 },
 "nbformat": 4,
 "nbformat_minor": 5
}
